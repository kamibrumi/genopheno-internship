{
 "cells": [
  {
   "cell_type": "code",
   "execution_count": 1,
   "id": "neither-airport",
   "metadata": {},
   "outputs": [],
   "source": [
    "import matplotlib.pyplot as plt\n",
    "from matplotlib import rcParams\n",
    "import numpy as np\n",
    "import pandas as pd\n",
    "import pickle\n",
    "import skill_metrics as sm\n",
    "from functools import reduce"
   ]
  },
  {
   "cell_type": "code",
   "execution_count": 2,
   "id": "statutory-commissioner",
   "metadata": {},
   "outputs": [],
   "source": [
    "#Load Data\n",
    "greenbears = pd.read_csv('./data/phenology-2021-03-08-greenbears_stl.csv')\n",
    "PEG = pd.read_csv('./data/preds.csv')\n",
    "PEG_rfr = pd.read_csv('./data/prediction_0325_RFR.csv')\n",
    "EDM = pd.read_csv('./data/phenology-2021-03-08-UCSC_P_EDM.csv')\n",
    "Obs = pd.read_csv('https://data.ecoforecast.org/targets/phenology/phenology-targets.csv.gz')"
   ]
  },
  {
   "cell_type": "code",
   "execution_count": 3,
   "id": "solid-lodge",
   "metadata": {},
   "outputs": [
    {
     "data": {
      "text/plain": [
       "array(['HARV', 'BART', 'SCBI', 'STEI', 'UKFS', 'GRSM', 'DELA', 'CLBJ'],\n",
       "      dtype=object)"
      ]
     },
     "execution_count": 3,
     "metadata": {},
     "output_type": "execute_result"
    }
   ],
   "source": [
    "site_names = Obs['siteID'].unique()\n",
    "site_names"
   ]
  },
  {
   "cell_type": "code",
   "execution_count": 4,
   "id": "bridal-poker",
   "metadata": {},
   "outputs": [],
   "source": [
    "#Define a funtion to extract mean for specific site. \n",
    "def extract_site_mean(data, target):\n",
    "    if 'statistic' in data.columns:\n",
    "        data = data[(data['siteID']==target) & (data['statistic']=='mean')]\n",
    "    else:\n",
    "        data = data[(data['siteID']==target)]\n",
    "    data = data.set_index(\"time\")\n",
    "    return data"
   ]
  },
  {
   "cell_type": "code",
   "execution_count": 13,
   "id": "valid-people",
   "metadata": {
    "scrolled": false
   },
   "outputs": [],
   "source": [
    "#Creat a dictionary to store taylor statistics\n",
    "statistics = {}\n",
    "\n",
    "#Loop to plot all Diagrams\n",
    "for site in site_names:\n",
    "    \n",
    "    #Extract mean\n",
    "    PEG_site = extract_site_mean(PEG, site)\n",
    "    PEG_rfr_site = extract_site_mean(PEG_rfr, site)\n",
    "    GB_site = extract_site_mean(greenbears, site)\n",
    "    EDM_site = extract_site_mean(EDM, site)\n",
    "    Obs_site = extract_site_mean(Obs, site).dropna()\n",
    "    \n",
    "    #Find similar date for all \n",
    "    similar_date = reduce(np.intersect1d, (Obs_site.index, PEG_site.index, PEG_rfr_site.index, GB_site.index, EDM_site.index))\n",
    "    \n",
    "    #Calculate statistics for taylor diagram\n",
    "    PEG_taylor_stats = sm.taylor_statistics(PEG_site['gcc_90'][similar_date],Obs_site['gcc_90'][similar_date])\n",
    "    PEG_rfr_taylor_stats = sm.taylor_statistics(PEG_rfr_site['gcc_90'][similar_date],Obs_site['gcc_90'][similar_date])\n",
    "    GB_taylor_stats = sm.taylor_statistics(GB_site['gcc_90'][similar_date],Obs_site['gcc_90'][similar_date])\n",
    "    EDM_taylor_stats = sm.taylor_statistics(EDM_site['gcc_90'][similar_date],Obs_site['gcc_90'][similar_date])\n",
    "    Obs_taylor_stats = sm.taylor_statistics(Obs_site['gcc_90'][similar_date],Obs_site['gcc_90'][similar_date])\n",
    "    \n",
    "    #Store Statistics for each site\n",
    "    statistics[site] = {'PEG_simple':PEG_taylor_stats,\n",
    "                         'PEG_rfr': PEG_rfr_taylor_stats,\n",
    "                         'GB': GB_taylor_stats,\n",
    "                         'EDM': EDM_taylor_stats,\n",
    "                         'Obs': Obs_taylor_stats}\n",
    "    \n",
    "    #Store statstics for Taylor Diagram for other teams/competitor\n",
    "    sdev = np.array([PEG_taylor_stats['sdev'][0],\n",
    "                GB_taylor_stats['sdev'][1], \n",
    "                EDM_taylor_stats['sdev'][1]])\n",
    "\n",
    "    crmsd = np.array([PEG_taylor_stats['crmsd'][0], \n",
    "                GB_taylor_stats['crmsd'][1], \n",
    "                EDM_taylor_stats['crmsd'][1]])\n",
    "\n",
    "    ccoef = np.array([PEG_taylor_stats['ccoef'][0],\n",
    "                GB_taylor_stats['ccoef'][1], \n",
    "                EDM_taylor_stats['ccoef'][1]])\n",
    "    \n",
    "    #Set label for other teams. PEG will be added as a second layer later.\n",
    "    label = ['Obs', 'GB', 'EDM']  \n",
    "\n",
    "    #Draw Taylor Diagram for other teams \n",
    "    plt.title(label = \"Site: \" + str(site), fontsize=20, x=0.8, y=1.2)\n",
    "    sm.taylor_diagram(sdev, crmsd, ccoef, numberPanels = 2,\n",
    "                  markerLabel = label, markerLabelColor = 'r', markerSize = 9, \n",
    "                titleRMS = 'off', widthRMS = 0.7,\n",
    "                titleSTD='on', showlabelsSTD='on', widthSTD = 0.8,\n",
    "                #titleOBS = 'Obs', \n",
    "                  styleOBS = '-.', markerobs = 'o',\n",
    "                colCOR = 'k', styleCOR = '--', widthCOR = 0.8)\n",
    "    \n",
    "    \n",
    "    \n",
    "    #Store statstics for Taylor Diagram for PEG\n",
    "    sdev_PEG = np.array([PEG_taylor_stats['sdev'][0],\n",
    "                PEG_taylor_stats['sdev'][1],\n",
    "                PEG_rfr_taylor_stats['sdev'][1]])\n",
    "\n",
    "    crmsd_PEG = np.array([PEG_taylor_stats['crmsd'][0], \n",
    "                PEG_taylor_stats['crmsd'][1],\n",
    "                PEG_rfr_taylor_stats['crmsd'][1]])\n",
    "\n",
    "    ccoef_PEG = np.array([PEG_taylor_stats['ccoef'][0],\n",
    "                PEG_taylor_stats['ccoef'][1],\n",
    "                PEG_rfr_taylor_stats['ccoef'][1]])\n",
    "    \n",
    "    #Set Label for PEG models \n",
    "    label = ['Non-Dimensional Observation', 'PEG', 'PEG_rfr']\n",
    "\n",
    "    #Second layer for PEG. Comment in function: overlay = 'on'\n",
    "    sm.taylor_diagram(sdev_PEG,crmsd_PEG,ccoef_PEG, overlay = 'on',  titleSTD='on',\n",
    "                      markerLabel = label, markerLabelColor = 'b',\n",
    "                      markerColor = 'b')\n",
    "    \n",
    "    \n",
    "    #Uncomment following two lines if want to save \n",
    "    #plt.savefig('./Taylor_Diagrams/taylor_'+str(site)+'.png')\n",
    "    #plt.close()\n",
    "    \n",
    "    plt.show()"
   ]
  },
  {
   "cell_type": "code",
   "execution_count": 6,
   "id": "toxic-assets",
   "metadata": {},
   "outputs": [],
   "source": [
    "#Examine the correctness of GRSM\n",
    "PEG_GRSM = extract_site_mean(PEG, 'GRSM')\n",
    "PEG_rfr_GRSM = extract_site_mean(PEG_rfr, 'GRSM')\n",
    "Obs_GRSM = extract_site_mean(Obs, 'GRSM').dropna()\n",
    "\n",
    "GRSM_whole = pd.concat([Obs_GRSM['gcc_90'], PEG_GRSM['gcc_90'], PEG_rfr_GRSM['gcc_90']], \n",
    "                       axis=1, \n",
    "                       join=\"inner\")\n",
    "GRSM_whole.columns = ['Obs', 'simple', 'rfr']"
   ]
  },
  {
   "cell_type": "code",
   "execution_count": 7,
   "id": "special-blink",
   "metadata": {},
   "outputs": [
    {
     "data": {
      "text/html": [
       "<div>\n",
       "<style scoped>\n",
       "    .dataframe tbody tr th:only-of-type {\n",
       "        vertical-align: middle;\n",
       "    }\n",
       "\n",
       "    .dataframe tbody tr th {\n",
       "        vertical-align: top;\n",
       "    }\n",
       "\n",
       "    .dataframe thead th {\n",
       "        text-align: right;\n",
       "    }\n",
       "</style>\n",
       "<table border=\"1\" class=\"dataframe\">\n",
       "  <thead>\n",
       "    <tr style=\"text-align: right;\">\n",
       "      <th></th>\n",
       "      <th>Obs</th>\n",
       "      <th>simple</th>\n",
       "      <th>rfr</th>\n",
       "    </tr>\n",
       "    <tr>\n",
       "      <th>time</th>\n",
       "      <th></th>\n",
       "      <th></th>\n",
       "      <th></th>\n",
       "    </tr>\n",
       "  </thead>\n",
       "  <tbody>\n",
       "    <tr>\n",
       "      <th>2021-03-25</th>\n",
       "      <td>0.36235</td>\n",
       "      <td>0.348271</td>\n",
       "      <td>0.405620</td>\n",
       "    </tr>\n",
       "    <tr>\n",
       "      <th>2021-03-26</th>\n",
       "      <td>0.34947</td>\n",
       "      <td>0.350280</td>\n",
       "      <td>0.405786</td>\n",
       "    </tr>\n",
       "    <tr>\n",
       "      <th>2021-03-27</th>\n",
       "      <td>0.35608</td>\n",
       "      <td>0.351844</td>\n",
       "      <td>0.406007</td>\n",
       "    </tr>\n",
       "    <tr>\n",
       "      <th>2021-03-28</th>\n",
       "      <td>0.35602</td>\n",
       "      <td>0.350165</td>\n",
       "      <td>0.404313</td>\n",
       "    </tr>\n",
       "    <tr>\n",
       "      <th>2021-03-29</th>\n",
       "      <td>0.34864</td>\n",
       "      <td>0.348844</td>\n",
       "      <td>0.405275</td>\n",
       "    </tr>\n",
       "    <tr>\n",
       "      <th>2021-03-30</th>\n",
       "      <td>0.35131</td>\n",
       "      <td>0.349809</td>\n",
       "      <td>0.404941</td>\n",
       "    </tr>\n",
       "    <tr>\n",
       "      <th>2021-03-31</th>\n",
       "      <td>0.35812</td>\n",
       "      <td>0.351471</td>\n",
       "      <td>0.404740</td>\n",
       "    </tr>\n",
       "    <tr>\n",
       "      <th>2021-04-01</th>\n",
       "      <td>0.35531</td>\n",
       "      <td>0.352186</td>\n",
       "      <td>0.403935</td>\n",
       "    </tr>\n",
       "    <tr>\n",
       "      <th>2021-04-02</th>\n",
       "      <td>0.35342</td>\n",
       "      <td>0.352139</td>\n",
       "      <td>0.404240</td>\n",
       "    </tr>\n",
       "    <tr>\n",
       "      <th>2021-04-03</th>\n",
       "      <td>0.35281</td>\n",
       "      <td>0.353785</td>\n",
       "      <td>0.402198</td>\n",
       "    </tr>\n",
       "    <tr>\n",
       "      <th>2021-04-04</th>\n",
       "      <td>0.35431</td>\n",
       "      <td>0.353177</td>\n",
       "      <td>0.400538</td>\n",
       "    </tr>\n",
       "    <tr>\n",
       "      <th>2021-04-05</th>\n",
       "      <td>0.35752</td>\n",
       "      <td>0.356336</td>\n",
       "      <td>0.401084</td>\n",
       "    </tr>\n",
       "    <tr>\n",
       "      <th>2021-04-06</th>\n",
       "      <td>0.36259</td>\n",
       "      <td>0.355201</td>\n",
       "      <td>0.400038</td>\n",
       "    </tr>\n",
       "    <tr>\n",
       "      <th>2021-04-07</th>\n",
       "      <td>0.36483</td>\n",
       "      <td>0.356013</td>\n",
       "      <td>0.398685</td>\n",
       "    </tr>\n",
       "  </tbody>\n",
       "</table>\n",
       "</div>"
      ],
      "text/plain": [
       "                Obs    simple       rfr\n",
       "time                                   \n",
       "2021-03-25  0.36235  0.348271  0.405620\n",
       "2021-03-26  0.34947  0.350280  0.405786\n",
       "2021-03-27  0.35608  0.351844  0.406007\n",
       "2021-03-28  0.35602  0.350165  0.404313\n",
       "2021-03-29  0.34864  0.348844  0.405275\n",
       "2021-03-30  0.35131  0.349809  0.404941\n",
       "2021-03-31  0.35812  0.351471  0.404740\n",
       "2021-04-01  0.35531  0.352186  0.403935\n",
       "2021-04-02  0.35342  0.352139  0.404240\n",
       "2021-04-03  0.35281  0.353785  0.402198\n",
       "2021-04-04  0.35431  0.353177  0.400538\n",
       "2021-04-05  0.35752  0.356336  0.401084\n",
       "2021-04-06  0.36259  0.355201  0.400038\n",
       "2021-04-07  0.36483  0.356013  0.398685"
      ]
     },
     "execution_count": 7,
     "metadata": {},
     "output_type": "execute_result"
    }
   ],
   "source": [
    "GRSM_whole"
   ]
  },
  {
   "cell_type": "code",
   "execution_count": 8,
   "id": "western-monitor",
   "metadata": {},
   "outputs": [
    {
     "data": {
      "text/plain": [
       "array([[<AxesSubplot:xlabel='Obs', ylabel='Obs'>,\n",
       "        <AxesSubplot:xlabel='simple', ylabel='Obs'>,\n",
       "        <AxesSubplot:xlabel='rfr', ylabel='Obs'>],\n",
       "       [<AxesSubplot:xlabel='Obs', ylabel='simple'>,\n",
       "        <AxesSubplot:xlabel='simple', ylabel='simple'>,\n",
       "        <AxesSubplot:xlabel='rfr', ylabel='simple'>],\n",
       "       [<AxesSubplot:xlabel='Obs', ylabel='rfr'>,\n",
       "        <AxesSubplot:xlabel='simple', ylabel='rfr'>,\n",
       "        <AxesSubplot:xlabel='rfr', ylabel='rfr'>]], dtype=object)"
      ]
     },
     "execution_count": 8,
     "metadata": {},
     "output_type": "execute_result"
    },
    {
     "data": {
      "image/png": "[encoded data removed]",
      "text/plain": [
       "<Figure size 432x288 with 9 Axes>"
      ]
     },
     "metadata": {
      "needs_background": "light"
     },
     "output_type": "display_data"
    }
   ],
   "source": [
    "pd.plotting.scatter_matrix(GRSM_whole, alpha=1)"
   ]
  },
  {
   "cell_type": "code",
   "execution_count": 9,
   "id": "engaging-queen",
   "metadata": {},
   "outputs": [
    {
     "data": {
      "text/plain": [
       "array([[ 1.        , -0.52948027],\n",
       "       [-0.52948027,  1.        ]])"
      ]
     },
     "execution_count": 9,
     "metadata": {},
     "output_type": "execute_result"
    }
   ],
   "source": [
    "#Corr betwenn obs and rfr. Correct shown on taylor diagram. \n",
    "np.corrcoef(GRSM_whole.Obs, GRSM_whole.rfr)"
   ]
  },
  {
   "cell_type": "code",
   "execution_count": 10,
   "id": "removable-treaty",
   "metadata": {},
   "outputs": [
    {
     "data": {
      "text/plain": [
       "array([[1.        , 0.46404448],\n",
       "       [0.46404448, 1.        ]])"
      ]
     },
     "execution_count": 10,
     "metadata": {},
     "output_type": "execute_result"
    }
   ],
   "source": [
    "#Corr betwenn obs and simple. Correct shown on taylor diagram. \n",
    "np.corrcoef(GRSM_whole.Obs, GRSM_whole.simple)"
   ]
  },
  {
   "cell_type": "code",
   "execution_count": 11,
   "id": "involved-registrar",
   "metadata": {},
   "outputs": [
    {
     "data": {
      "text/plain": [
       "{'PEG_simple': {'ccoef': array([1.        , 0.13144072]),\n",
       "  'crmsd': [0.0, 0.0016279467494263345],\n",
       "  'sdev': [0.0014846500309115686, 0.0008909206465734506]},\n",
       " 'PEG_rfr': {'ccoef': array([ 1.        , -0.38325829]),\n",
       "  'crmsd': [0.0, 0.0017934853249534143],\n",
       "  'sdev': [0.0014846500309115686, 0.000586923737172592]},\n",
       " 'GB': {'ccoef': array([1.        , 0.42325794]),\n",
       "  'crmsd': [0.0, 0.0013698395631688168],\n",
       "  'sdev': [0.0014846500309115686, 0.0008875203937089003]},\n",
       " 'EDM': {'ccoef': array([1.        , 0.18798695]),\n",
       "  'crmsd': [0.0, 0.0023635347924224046],\n",
       "  'sdev': [0.0014846500309115686, 0.002139203677465014]},\n",
       " 'Obs': {'ccoef': array([1., 1.]),\n",
       "  'crmsd': [0.0, 0.0],\n",
       "  'sdev': [0.0014846500309115686, 0.0014846500309115686]}}"
      ]
     },
     "execution_count": 11,
     "metadata": {},
     "output_type": "execute_result"
    }
   ],
   "source": [
    "#Call dictionay to see statistics\n",
    "statistics['HARV']"
   ]
  }
 ],
 "metadata": {
  "kernelspec": {
   "display_name": "Python 3",
   "language": "python",
   "name": "python3"
  },
  "language_info": {
   "codemirror_mode": {
    "name": "ipython",
    "version": 3
   },
   "file_extension": ".py",
   "mimetype": "text/x-python",
   "name": "python",
   "nbconvert_exporter": "python",
   "pygments_lexer": "ipython3",
   "version": "3.9.1"
  }
 },
 "nbformat": 4,
 "nbformat_minor": 5
}
