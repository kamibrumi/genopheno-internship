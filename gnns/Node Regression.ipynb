{
 "cells": [
  {
   "cell_type": "code",
   "execution_count": 1,
   "metadata": {},
   "outputs": [
    {
     "name": "stderr",
     "output_type": "stream",
     "text": [
      "Using backend: pytorch\n"
     ]
    }
   ],
   "source": [
    "#Source for tutorial: https://docs.dgl.ai/guide/training-node.html\n",
    "\n",
    "import dgl.nn as dglnn\n",
    "import torch.nn as nn\n",
    "import torch.nn.functional as F\n",
    "class SAGE(nn.Module):\n",
    "    def __init__(self, in_feats, hid_feats, out_feats):\n",
    "        super().__init__()\n",
    "        self.conv1 = dglnn.SAGEConv(\n",
    "            in_feats=in_feats, out_feats=hid_feats, aggregator_type='mean')\n",
    "        self.conv2 = dglnn.SAGEConv(\n",
    "            in_feats=hid_feats, out_feats=out_feats, aggregator_type='mean')\n",
    "\n",
    "    def forward(self, graph, inputs):\n",
    "        # inputs are features of nodes\n",
    "        h = self.conv1(graph, inputs)\n",
    "        h = F.relu(h)\n",
    "        h = self.conv2(graph, h)\n",
    "        return h"
   ]
  },
  {
   "cell_type": "code",
   "execution_count": 5,
   "metadata": {},
   "outputs": [
    {
     "name": "stdout",
     "output_type": "stream",
     "text": [
      "  NumNodes: 3327\n",
      "  NumEdges: 9228\n",
      "  NumFeats: 3703\n",
      "  NumClasses: 6\n",
      "  NumTrainingSamples: 120\n",
      "  NumValidationSamples: 500\n",
      "  NumTestSamples: 1000\n",
      "Done loading data from cached files.\n"
     ]
    }
   ],
   "source": [
    "from dgl.data import CiteseerGraphDataset\n",
    "\n",
    "dataset = CiteseerGraphDataset()\n",
    "graph = dataset[0]\n",
    "\n",
    "node_features = graph.ndata['feat']\n",
    "node_labels = graph.ndata['label']\n",
    "train_mask = graph.ndata['train_mask']\n",
    "valid_mask = graph.ndata['val_mask']\n",
    "test_mask = graph.ndata['test_mask']\n",
    "n_features = node_features.shape[1]\n",
    "n_labels = int(node_labels.max().item() + 1)"
   ]
  },
  {
   "cell_type": "code",
   "execution_count": 22,
   "metadata": {},
   "outputs": [
    {
     "name": "stdout",
     "output_type": "stream",
     "text": [
      "tensor([3, 1, 5,  ..., 3, 1, 5])\n"
     ]
    }
   ],
   "source": [
    "print(graph.ndata['label'])"
   ]
  },
  {
   "cell_type": "code",
   "execution_count": 14,
   "metadata": {},
   "outputs": [],
   "source": [
    "def evaluate(model, graph, features, labels, mask):\n",
    "    model.eval()\n",
    "    with torch.no_grad():\n",
    "        logits = model(graph, features)\n",
    "        logits = logits[mask]\n",
    "        labels = labels[mask]\n",
    "        _, indices = torch.max(logits, dim=1)\n",
    "        correct = torch.sum(indices == labels)\n",
    "        return correct.item() * 1.0 / len(labels)"
   ]
  },
  {
   "cell_type": "code",
   "execution_count": 23,
   "metadata": {},
   "outputs": [
    {
     "name": "stdout",
     "output_type": "stream",
     "text": [
      "1.7927032709121704\n",
      "1.7794945240020752\n",
      "1.7665126323699951\n",
      "1.753063678741455\n",
      "1.7390313148498535\n",
      "1.724308729171753\n",
      "1.7087912559509277\n",
      "1.6926941871643066\n",
      "1.6760982275009155\n",
      "1.6589890718460083\n"
     ]
    }
   ],
   "source": [
    "# Training Model\n",
    "import torch\n",
    "\n",
    "model = SAGE(in_feats=n_features, hid_feats=100, out_feats=n_labels)\n",
    "opt = torch.optim.Adam(model.parameters())\n",
    "\n",
    "for epoch in range(10):\n",
    "    model.train()\n",
    "    # forward propagation by using all nodes\n",
    "    logits = model(graph, node_features)\n",
    "    # compute loss\n",
    "    loss = F.cross_entropy(logits[train_mask], node_labels[train_mask])\n",
    "    # compute validation accuracy\n",
    "    acc = evaluate(model, graph, node_features, node_labels, valid_mask)\n",
    "    # backward propagation\n",
    "    opt.zero_grad()\n",
    "    loss.backward()\n",
    "    opt.step()\n",
    "    print(loss.item())\n",
    "\n",
    "    # Save model if necessary.  Omitted in this example."
   ]
  },
  {
   "cell_type": "code",
   "execution_count": 38,
   "metadata": {},
   "outputs": [
    {
     "name": "stdout",
     "output_type": "stream",
     "text": [
      "SAGE(\n",
      "  (conv1): SAGEConv(\n",
      "    (feat_drop): Dropout(p=0.0, inplace=False)\n",
      "    (fc_self): Linear(in_features=3703, out_features=100, bias=True)\n",
      "    (fc_neigh): Linear(in_features=3703, out_features=100, bias=True)\n",
      "  )\n",
      "  (conv2): SAGEConv(\n",
      "    (feat_drop): Dropout(p=0.0, inplace=False)\n",
      "    (fc_self): Linear(in_features=100, out_features=6, bias=True)\n",
      "    (fc_neigh): Linear(in_features=100, out_features=6, bias=True)\n",
      "  )\n",
      ")\n"
     ]
    }
   ],
   "source": [
    "# print(node_labels.sum().item())\n",
    "# print(train_mask.size())\n",
    "# print(test_mask.size())\n",
    "# print(valid_mask.size())\n",
    "\n",
    "\n",
    "# model.eval()\n",
    "# # Convert a list of tuples to two lists\n",
    "# test_X, test_Y = map(list, zip(*testset))\n",
    "# test_bg = dgl.batch(test_X)\n",
    "# test_Y = torch.tensor(test_Y).float().view(-1, 1)\n",
    "# #probs_Y = torch.softmax(model(test_bg), 1)\n",
    "# probs_Y = model(test_bg)\n",
    "# print(probs_Y)\n",
    "# test_X, test_Y = map(list, zip(*testset))\n",
    "# print(test_Y)\n",
    "# print(model)\n",
    "# exit()\n",
    "# sampled_Y = torch.multinomial(probs_Y, 1)\n",
    "# argmax_Y = torch.max(probs_Y, 1)[1].view(-1, 1)\n",
    "# print('Accuracy of sampled predictions on the test set: {:.4f}%'.format(\n",
    "#     (test_Y == sampled_Y.float()).sum().item() / len(test_Y) * 100))\n",
    "# print('Accuracy of argmax predictions on the test set: {:4f}%'.format(\n",
    "#     (test_Y == argmax_Y.float()).sum().item() / len(test_Y) * 100))"
   ]
  },
  {
   "cell_type": "code",
   "execution_count": null,
   "metadata": {},
   "outputs": [],
   "source": []
  }
 ],
 "metadata": {
  "kernelspec": {
   "display_name": "Python 3",
   "language": "python",
   "name": "python3"
  },
  "language_info": {
   "codemirror_mode": {
    "name": "ipython",
    "version": 3
   },
   "file_extension": ".py",
   "mimetype": "text/x-python",
   "name": "python",
   "nbconvert_exporter": "python",
   "pygments_lexer": "ipython3",
   "version": "3.8.3"
  }
 },
 "nbformat": 4,
 "nbformat_minor": 4
}
