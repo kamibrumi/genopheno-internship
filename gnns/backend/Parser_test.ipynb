{
 "cells": [
  {
   "cell_type": "code",
   "execution_count": 13,
   "id": "finnish-october",
   "metadata": {},
   "outputs": [
    {
     "name": "stdout",
     "output_type": "stream",
     "text": [
      "DenseGraphConv\n",
      "SumPooling\n"
     ]
    },
    {
     "data": {
      "text/plain": [
       "[DenseGraphConv(), SumPooling()]"
      ]
     },
     "execution_count": 13,
     "metadata": {},
     "output_type": "execute_result"
    }
   ],
   "source": [
    "# equivalences between jsoin and python: https://www.geeksforgeeks.org/read-json-file-using-python/\n",
    "import json\n",
    "import dgl\n",
    "import numpy as np\n",
    "import torch as th\n",
    "from dgl.nn import DenseGraphConv\n",
    "from dgl.nn import SumPooling\n",
    "\n",
    "class Layers:\n",
    "    def get_DenseGraphConv(self, parameters):\n",
    "        # TODO figure out how to pass the parameters. maybe this would help: https://realpython.com/python-kwargs-and-args/#passing-multiple-arguments-to-a-function\n",
    "        return DenseGraphConv(10, 2) \n",
    "    \n",
    "    def get_SumPooling(self, parameters):\n",
    "        return SumPooling()\n",
    "\n",
    "class Parser:\n",
    "    def __init__(self, json_filename):\n",
    "        self.json_filename = json_filename\n",
    "        \n",
    "    def parse_parameters(self, parameters): # TODO: implement this function\n",
    "        params = [] # TODO: figure out if a list is the best way to store the parameters\n",
    "        return params\n",
    "    \n",
    "    # the parse function parses the layers\n",
    "    def parse(self):\n",
    "        layers = [] # where we will store all the layer objects\n",
    "        \n",
    "        #parse json file\n",
    "        f = open(self.json_filename)\n",
    "        # returns JSON object as a dictionary\n",
    "        data = json.load(f)\n",
    "        n_layers = data[\"n_layers\"]\n",
    "        layers_list = data[\"layers\"]\n",
    "        #print(len(layers_list))\n",
    "        \n",
    "        for layer in layers_list:\n",
    "            print(layer[\"type\"])\n",
    "            \n",
    "            # the following line all it does is to fetch the function Layers.get_<name of layer>()\n",
    "            layer_getter = getattr(Layers, \"get_\" + layer[\"type\"])\n",
    "            \n",
    "            # now we call the function Layers.get_<name of layer>() and we obtain a layer as a result\n",
    "            parameters = self.parse_parameters(layer[\"parameters\"])\n",
    "            layer = layer_getter(self, parameters)\n",
    "            \n",
    "            # append that layer to the list of layers\n",
    "            layers.append(layer)\n",
    "        return layers\n",
    "\n",
    "p = Parser(\"layers_example.json\")\n",
    "layers = p.parse()\n",
    "layers\n",
    "\n"
   ]
  },
  {
   "cell_type": "markdown",
   "id": "56d1207e",
   "metadata": {},
   "source": [
    "# Some errors I was receiving\n",
    "- Somthing in the lines that you're missing _C, see: https://stackoverflow.com/questions/54408973/name-c-is-not-defined-pytorchjupyter-notebook, then restart the notebook\n",
    "- No module named 'urllib3'. Solution: conda install -c anaconda urllib3"
   ]
  },
  {
   "cell_type": "code",
   "execution_count": null,
   "id": "beginning-coffee",
   "metadata": {},
   "outputs": [],
   "source": []
  }
 ],
 "metadata": {
  "kernelspec": {
   "display_name": "Python 3",
   "language": "python",
   "name": "python3"
  },
  "language_info": {
   "codemirror_mode": {
    "name": "ipython",
    "version": 3
   },
   "file_extension": ".py",
   "mimetype": "text/x-python",
   "name": "python",
   "nbconvert_exporter": "python",
   "pygments_lexer": "ipython3",
   "version": "3.7.9"
  }
 },
 "nbformat": 4,
 "nbformat_minor": 5
}
