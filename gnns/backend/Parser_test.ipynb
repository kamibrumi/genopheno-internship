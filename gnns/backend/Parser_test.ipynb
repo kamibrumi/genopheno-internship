{
 "cells": [
  {
   "cell_type": "code",
   "execution_count": null,
   "id": "trying-blues",
   "metadata": {},
   "outputs": [],
   "source": [
    "class Parser:\n",
    "    def __init__(self, layers_json):\n",
    "        self.layers_json = layers_json\n",
    "        \n",
    "    def parse():\n",
    "        # TODO: use some library that parses json\n",
    "        "
   ]
  }
 ],
 "metadata": {
  "kernelspec": {
   "display_name": "Python 3",
   "language": "python",
   "name": "python3"
  },
  "language_info": {
   "codemirror_mode": {
    "name": "ipython",
    "version": 3
   },
   "file_extension": ".py",
   "mimetype": "text/x-python",
   "name": "python",
   "nbconvert_exporter": "python",
   "pygments_lexer": "ipython3",
   "version": "3.7.9"
  }
 },
 "nbformat": 4,
 "nbformat_minor": 5
}
